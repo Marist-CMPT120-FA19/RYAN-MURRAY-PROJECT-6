{
 "cells": [
  {
   "cell_type": "code",
   "execution_count": null,
   "metadata": {},
   "outputs": [],
   "source": [
    "from graphics import *\n",
    "\n",
    "win= GraphWin(\"Traffic_light\" , 500, 500)\n",
    "\n",
    "def draw_light_body(x, y, length, width):\n",
    "    body=Rectangle (Point(x,y), Point(length, width))\n",
    "    body.setOutline(\"black\")\n",
    "    body.setFill(\"white\")\n",
    "    body.draw(win)\n",
    "\n",
    "def draw_lamp(color, a, b, radius):\n",
    "    lamp = Circle(Point(a,b), radius)\n",
    "    lamp.setOutline(\"black\")\n",
    "    lamp.setFill(color)\n",
    "    lamp.setWidth(3)\n",
    "    lamp.draw(win)\n",
    "\n",
    "def draw_traffic_light(x, y):\n",
    "    draw_light_body(x,y,90, 153)\n",
    "    draw_lamp(\"red\", 60,35,20)\n",
    "    draw_lamp(\"yellow\", 60,82,20)\n",
    "    draw_lamp(\"green\", 60,128, 20)\n",
    "\n",
    "draw_traffic_light(30,10)"
   ]
  },
  {
   "cell_type": "code",
   "execution_count": null,
   "metadata": {},
   "outputs": [],
   "source": []
  }
 ],
 "metadata": {
  "kernelspec": {
   "display_name": "Python 3",
   "language": "python",
   "name": "python3"
  },
  "language_info": {
   "codemirror_mode": {
    "name": "ipython",
    "version": 3
   },
   "file_extension": ".py",
   "mimetype": "text/x-python",
   "name": "python",
   "nbconvert_exporter": "python",
   "pygments_lexer": "ipython3",
   "version": "3.7.3"
  }
 },
 "nbformat": 4,
 "nbformat_minor": 2
}
